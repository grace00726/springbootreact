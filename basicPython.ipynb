{
 "cells": [
  {
   "cell_type": "code",
   "execution_count": null,
   "id": "b9d19f05-3a80-4522-9d9f-feb64849f88d",
   "metadata": {},
   "outputs": [],
   "source": [
    "#셀 아래 추가 : b / 셀 위로 추가 : a / 삭제 : x / 복사 : c + v / 주석 : # / "
   ]
  },
  {
   "cell_type": "code",
   "execution_count": null,
   "id": "5f5e26b4-1282-4ffa-a47a-c3d53e1f9870",
   "metadata": {},
   "outputs": [],
   "source": [
    "pwd"
   ]
  },
  {
   "cell_type": "code",
   "execution_count": null,
   "id": "524a07c8-1e78-4f65-a377-2e41b472d6ba",
   "metadata": {},
   "outputs": [],
   "source": [
    "'C:\\Users\\Administrator'"
   ]
  },
  {
   "cell_type": "markdown",
   "id": "ed58e70c-f1f0-4a7f-885b-6de7d0a08da5",
   "metadata": {},
   "source": [
    "<a href = https://pynative.com/wp-content/uploads/2021/02/dictionaries-in-python.jpg>dictionary</h1>"
   ]
  },
  {
   "cell_type": "markdown",
   "id": "adddc5a0-7ff7-410d-a814-6f0f288d3ce1",
   "metadata": {},
   "source": [
    "<img src = \"images/1.jpg\" />"
   ]
  },
  {
   "cell_type": "markdown",
   "id": "603545fa-1898-4e3b-a551-58009f35dcee",
   "metadata": {},
   "source": [
    "<h1>dictionary</h1>\n",
    "<h4>딕셔너리는  키와 value의 쌍으로 이루어진 데이터 => 자바스크립트의 객체와 동일 </h4>"
   ]
  },
  {
   "cell_type": "code",
   "execution_count": 19,
   "id": "03ff60c4-8f9b-4069-924d-8533bf7776e3",
   "metadata": {},
   "outputs": [],
   "source": [
    "a=6"
   ]
  },
  {
   "cell_type": "code",
   "execution_count": 21,
   "id": "bb90bb0b-de4b-44d7-942a-f44c4bb77e3d",
   "metadata": {},
   "outputs": [],
   "source": [
    "a={'a':6} #dictionary == 객체"
   ]
  },
  {
   "cell_type": "code",
   "execution_count": null,
   "id": "b733e17a-8d6b-45be-961a-9e7245462450",
   "metadata": {},
   "outputs": [],
   "source": [
    "b =[1,2,4] #리스트 == 배열"
   ]
  },
  {
   "cell_type": "code",
   "execution_count": 23,
   "id": "ab722ebb-6090-481d-91cc-1f61eccb4dff",
   "metadata": {},
   "outputs": [
    {
     "data": {
      "text/plain": [
       "{'a': 6, 'b': 13}"
      ]
     },
     "execution_count": 23,
     "metadata": {},
     "output_type": "execute_result"
    }
   ],
   "source": [
    "a['b'] =13\n",
    "a"
   ]
  },
  {
   "cell_type": "code",
   "execution_count": null,
   "id": "ace615e5-ed82-4310-8fdb-42ae1572a6a5",
   "metadata": {},
   "outputs": [],
   "source": []
  }
 ],
 "metadata": {
  "kernelspec": {
   "display_name": "Python [conda env:base] *",
   "language": "python",
   "name": "conda-base-py"
  },
  "language_info": {
   "codemirror_mode": {
    "name": "ipython",
    "version": 3
   },
   "file_extension": ".py",
   "mimetype": "text/x-python",
   "name": "python",
   "nbconvert_exporter": "python",
   "pygments_lexer": "ipython3",
   "version": "3.12.7"
  }
 },
 "nbformat": 4,
 "nbformat_minor": 5
}
